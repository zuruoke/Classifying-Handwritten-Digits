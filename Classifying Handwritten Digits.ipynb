{
 "cells": [
  {
   "cell_type": "code",
   "execution_count": 27,
   "metadata": {},
   "outputs": [],
   "source": [
    "import tensorflow as tf\n",
    "import numpy as np\n",
    "from tensorflow import keras"
   ]
  },
  {
   "cell_type": "code",
   "execution_count": 47,
   "metadata": {},
   "outputs": [],
   "source": [
    "import matplotlib.pyplot as plt\n",
    "%matplotlib inline"
   ]
  },
  {
   "cell_type": "code",
   "execution_count": 16,
   "metadata": {},
   "outputs": [],
   "source": [
    "from tensorflow.keras import layers\n",
    "from tensorflow.keras import regularizers"
   ]
  },
  {
   "cell_type": "code",
   "execution_count": 28,
   "metadata": {},
   "outputs": [],
   "source": [
    "BATCH_SIZE = 128\n",
    "VERBOSE = 1\n",
    "NB_CLASSES = 10\n",
    "VALIDATION_SPLIT = 0.2\n",
    "mnist = keras.datasets.mnist\n",
    "(X_train, Y_train), (X_test, Y_test) = mnist.load_data()"
   ]
  },
  {
   "cell_type": "code",
   "execution_count": 29,
   "metadata": {},
   "outputs": [],
   "source": [
    "X_train = X_train.astype('float32')\n",
    "X_test = X_test.astype('float32')"
   ]
  },
  {
   "cell_type": "code",
   "execution_count": 30,
   "metadata": {},
   "outputs": [],
   "source": [
    "Y_train = tf.keras.utils.to_categorical(Y_train, NB_CLASSES)\n",
    "Y_test = tf.keras.utils.to_categorical(Y_test, NB_CLASSES)\n",
    "X_train /= 255\n",
    "X_test /= 255\n"
   ]
  },
  {
   "cell_type": "code",
   "execution_count": 31,
   "metadata": {},
   "outputs": [],
   "source": [
    "X_train = X_train.reshape((60000, 28, 28, 1))\n",
    "X_test = X_test.reshape((10000, 28, 28, 1))"
   ]
  },
  {
   "cell_type": "code",
   "execution_count": 5,
   "metadata": {},
   "outputs": [],
   "source": [
    "RESHAPED = 784\n",
    "\n",
    "X_train = X_train.astype('float32')\n",
    "X_test = X_test.astype('float32')\n",
    "\n",
    "X_train /= 255\n",
    "X_test /= 255\n",
    "\n",
    "Y_train = tf.keras.utils.to_categorical(Y_train, NB_CLASSES)\n",
    "Y_test = tf.keras.utils.to_categorical(Y_test, NB_CLASSES)"
   ]
  },
  {
   "cell_type": "code",
   "execution_count": 44,
   "metadata": {},
   "outputs": [],
   "source": [
    "model = tf.keras.models.Sequential()\n",
    "model.add(layers.Convolution2D(20, (8, 8), activation=\"relu\", input_shape=(28, 28, 1)))\n",
    "model.add(layers.MaxPooling2D(pool_size=(2, 2), strides=(2, 2)))\n",
    "model.add(layers.Convolution2D(50, (8, 8), activation=\"relu\"))\n",
    "model.add(layers.MaxPooling2D(pool_size=(2, 2), strides=(2, 2)))\n",
    "model.add(layers.Flatten())\n",
    "model.add(layers.Dense(500, activation=\"relu\"))\n",
    "model.add(keras.layers.Dense(NB_CLASSES, activation=\"softmax\"))"
   ]
  },
  {
   "cell_type": "code",
   "execution_count": 55,
   "metadata": {},
   "outputs": [],
   "source": [
    "model = tf.keras.models.Sequential()\n",
    "model.add(layers.Convolution2D(32, (3, 3), activation=\"relu\", input_shape=(28, 28, 1)))\n",
    "model.add(layers.Convolution2D(64, (3, 3), activation=\"relu\"))\n",
    "model.add(layers.MaxPooling2D(pool_size=(2, 2)))\n",
    "model.add(layers.Dropout(0.5))\n",
    "model.add(layers.Flatten())\n",
    "\n",
    "\n",
    "model.add(layers.Dense(250, activation=\"sigmoid\"))\n",
    "model.add(keras.layers.Dense(NB_CLASSES, activation=\"softmax\"))"
   ]
  },
  {
   "cell_type": "code",
   "execution_count": 56,
   "metadata": {},
   "outputs": [],
   "source": [
    "model.compile(optimizer='Adam',\n",
    "             loss=\"categorical_crossentropy\",\n",
    "              metrics=[\"accuracy\"]\n",
    "             )"
   ]
  },
  {
   "cell_type": "code",
   "execution_count": 34,
   "metadata": {},
   "outputs": [
    {
     "data": {
      "text/plain": [
       "(60000, 28, 28, 1)"
      ]
     },
     "execution_count": 34,
     "metadata": {},
     "output_type": "execute_result"
    }
   ],
   "source": [
    "X_train.shape"
   ]
  },
  {
   "cell_type": "code",
   "execution_count": 57,
   "metadata": {},
   "outputs": [
    {
     "name": "stdout",
     "output_type": "stream",
     "text": [
      "Train on 48000 samples, validate on 12000 samples\n",
      "Epoch 1/10\n",
      "48000/48000 [==============================] - 177s 4ms/sample - loss: 0.2310 - accuracy: 0.9323 - val_loss: 0.0740 - val_accuracy: 0.9796\n",
      "Epoch 2/10\n",
      "48000/48000 [==============================] - 154s 3ms/sample - loss: 0.0701 - accuracy: 0.9797 - val_loss: 0.0510 - val_accuracy: 0.9860\n",
      "Epoch 3/10\n",
      "48000/48000 [==============================] - 153s 3ms/sample - loss: 0.0471 - accuracy: 0.9866 - val_loss: 0.0431 - val_accuracy: 0.9877\n",
      "Epoch 4/10\n",
      "48000/48000 [==============================] - 153s 3ms/sample - loss: 0.0348 - accuracy: 0.9900 - val_loss: 0.0421 - val_accuracy: 0.9881\n",
      "Epoch 5/10\n",
      "48000/48000 [==============================] - 155s 3ms/sample - loss: 0.0269 - accuracy: 0.9924 - val_loss: 0.0392 - val_accuracy: 0.9883\n",
      "Epoch 6/10\n",
      "48000/48000 [==============================] - 153s 3ms/sample - loss: 0.0225 - accuracy: 0.9934 - val_loss: 0.0385 - val_accuracy: 0.9879\n",
      "Epoch 7/10\n",
      "48000/48000 [==============================] - 153s 3ms/sample - loss: 0.0185 - accuracy: 0.9945 - val_loss: 0.0387 - val_accuracy: 0.9883\n",
      "Epoch 8/10\n",
      "48000/48000 [==============================] - 153s 3ms/sample - loss: 0.0154 - accuracy: 0.9953 - val_loss: 0.0353 - val_accuracy: 0.9896\n",
      "Epoch 9/10\n",
      "48000/48000 [==============================] - 153s 3ms/sample - loss: 0.0110 - accuracy: 0.9971 - val_loss: 0.0361 - val_accuracy: 0.9896\n",
      "Epoch 10/10\n",
      "48000/48000 [==============================] - 154s 3ms/sample - loss: 0.0106 - accuracy: 0.9973 - val_loss: 0.0382 - val_accuracy: 0.9879\n",
      "10000/10000 [==============================] - 11s 1ms/sample - loss: 0.0353 - accuracy: 0.9887\n",
      "Test accuracy: 0.9887\n"
     ]
    }
   ],
   "source": [
    "model.fit(X_train, Y_train,\n",
    "         batch_size=BATCH_SIZE, epochs=10,\n",
    "         verbose=VERBOSE, validation_split=VALIDATION_SPLIT\n",
    "         )\n",
    "\n",
    "test_loss, test_acc = model.evaluate(X_test, Y_test)\n",
    "print(\"Test accuracy:\", test_acc)"
   ]
  }
 ],
 "metadata": {
  "kernelspec": {
   "display_name": "Python 3",
   "language": "python",
   "name": "python3"
  },
  "language_info": {
   "codemirror_mode": {
    "name": "ipython",
    "version": 3
   },
   "file_extension": ".py",
   "mimetype": "text/x-python",
   "name": "python",
   "nbconvert_exporter": "python",
   "pygments_lexer": "ipython3",
   "version": "3.7.6"
  }
 },
 "nbformat": 4,
 "nbformat_minor": 4
}
